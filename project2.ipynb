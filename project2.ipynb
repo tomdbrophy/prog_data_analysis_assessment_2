{
 "cells": [
  {
   "cell_type": "markdown",
   "metadata": {},
   "source": [
    "# Programming for Data Analysis - Project 2\n"
   ]
  },
  {
   "cell_type": "markdown",
   "metadata": {},
   "source": [
    "Order of Business:\n",
    "- Join CO2 datasets into single pandas dataframe spanning 800K years to present.\n",
    "- Join temperature datasets into single pandas dataframe spanning 800K years to present.\n",
    "- Investigate Jouzel's temperature anomoly calculations.\n",
    "- Join datasets for one other feature (CH4 or polar ice coverage) into single pandas dataframe spanning 800K years to present.\n",
    "- Join datsets for temperature and rainfall in Ireland into single pandas dataframe.\n",
    "- Join all above datsets into single pandas dataframe.\n",
    "- Export datsets to csv and json formats.\n",
    "- Graph CO2 vs temperature vs additional feature vs Irish data.\n",
    "- Analyse the above for correlations, lead/lag, etc.\n",
    "- Use linear regression to predict temperature change over coming decades.\n",
    "- Look at recent data and analyse to see if recent increases have been linear or nonlinear.\n",
    "\n",
    "\n"
   ]
  },
  {
   "cell_type": "markdown",
   "metadata": {},
   "source": [
    "Most recent CO2 data:\n",
    "Lan, X., Tans, P. and K.W. Thoning: Trends in globally-averaged CO2 determined from NOAA Global Monitoring Laboratory measurements. Version 2023-12 https://doi.org/10.15138/9N0H-ZH07\n"
   ]
  },
  {
   "cell_type": "code",
   "execution_count": 9,
   "metadata": {},
   "outputs": [],
   "source": [
    "# Import packages useful for data importing and analysis\n",
    "\n",
    "import numpy as np\n",
    "import matplotlib.pyplot as plt\n",
    "import pandas as pd"
   ]
  },
  {
   "cell_type": "code",
   "execution_count": 42,
   "metadata": {},
   "outputs": [
    {
     "data": {
      "text/html": [
       "<div>\n",
       "<style scoped>\n",
       "    .dataframe tbody tr th:only-of-type {\n",
       "        vertical-align: middle;\n",
       "    }\n",
       "\n",
       "    .dataframe tbody tr th {\n",
       "        vertical-align: top;\n",
       "    }\n",
       "\n",
       "    .dataframe thead th {\n",
       "        text-align: right;\n",
       "    }\n",
       "</style>\n",
       "<table border=\"1\" class=\"dataframe\">\n",
       "  <thead>\n",
       "    <tr style=\"text-align: right;\">\n",
       "      <th></th>\n",
       "      <th>year</th>\n",
       "      <th>mean</th>\n",
       "      <th>sigma mean</th>\n",
       "    </tr>\n",
       "  </thead>\n",
       "  <tbody>\n",
       "    <tr>\n",
       "      <th>0</th>\n",
       "      <td>-51.03</td>\n",
       "      <td>368.02</td>\n",
       "      <td>0.06</td>\n",
       "    </tr>\n",
       "    <tr>\n",
       "      <th>1</th>\n",
       "      <td>-48.00</td>\n",
       "      <td>361.78</td>\n",
       "      <td>0.37</td>\n",
       "    </tr>\n",
       "    <tr>\n",
       "      <th>2</th>\n",
       "      <td>-46.28</td>\n",
       "      <td>359.65</td>\n",
       "      <td>0.10</td>\n",
       "    </tr>\n",
       "    <tr>\n",
       "      <th>3</th>\n",
       "      <td>-44.41</td>\n",
       "      <td>357.11</td>\n",
       "      <td>0.16</td>\n",
       "    </tr>\n",
       "    <tr>\n",
       "      <th>4</th>\n",
       "      <td>-43.08</td>\n",
       "      <td>353.95</td>\n",
       "      <td>0.04</td>\n",
       "    </tr>\n",
       "  </tbody>\n",
       "</table>\n",
       "</div>"
      ],
      "text/plain": [
       "    year    mean  sigma mean\n",
       "0 -51.03  368.02        0.06\n",
       "1 -48.00  361.78        0.37\n",
       "2 -46.28  359.65        0.10\n",
       "3 -44.41  357.11        0.16\n",
       "4 -43.08  353.95        0.04"
      ]
     },
     "execution_count": 42,
     "metadata": {},
     "output_type": "execute_result"
    }
   ],
   "source": [
    "# Create a pandas datframe with IPCC CO2 data.\n",
    "\n",
    "co2_ipcc = pd.read_csv('data/co2_ipcc_clean.csv')\n",
    "co2_ipcc = co2_ipcc.rename(columns = {co2_ipcc.columns[0]:'year', 'CO2 (ppmv)':'mean', 'sigma mean CO2 (ppmv)':'sigma mean'})\n",
    "co2_ipcc.head()"
   ]
  },
  {
   "cell_type": "code",
   "execution_count": 38,
   "metadata": {},
   "outputs": [
    {
     "data": {
      "text/html": [
       "<div>\n",
       "<style scoped>\n",
       "    .dataframe tbody tr th:only-of-type {\n",
       "        vertical-align: middle;\n",
       "    }\n",
       "\n",
       "    .dataframe tbody tr th {\n",
       "        vertical-align: top;\n",
       "    }\n",
       "\n",
       "    .dataframe thead th {\n",
       "        text-align: right;\n",
       "    }\n",
       "</style>\n",
       "<table border=\"1\" class=\"dataframe\">\n",
       "  <thead>\n",
       "    <tr style=\"text-align: right;\">\n",
       "      <th></th>\n",
       "      <th>year</th>\n",
       "      <th>mean</th>\n",
       "      <th>sigma mean</th>\n",
       "    </tr>\n",
       "  </thead>\n",
       "  <tbody>\n",
       "    <tr>\n",
       "      <th>0</th>\n",
       "      <td>-29</td>\n",
       "      <td>336.85</td>\n",
       "      <td>0.11</td>\n",
       "    </tr>\n",
       "    <tr>\n",
       "      <th>1</th>\n",
       "      <td>-30</td>\n",
       "      <td>338.91</td>\n",
       "      <td>0.07</td>\n",
       "    </tr>\n",
       "    <tr>\n",
       "      <th>2</th>\n",
       "      <td>-31</td>\n",
       "      <td>340.11</td>\n",
       "      <td>0.09</td>\n",
       "    </tr>\n",
       "    <tr>\n",
       "      <th>3</th>\n",
       "      <td>-32</td>\n",
       "      <td>340.85</td>\n",
       "      <td>0.03</td>\n",
       "    </tr>\n",
       "    <tr>\n",
       "      <th>4</th>\n",
       "      <td>-33</td>\n",
       "      <td>342.53</td>\n",
       "      <td>0.06</td>\n",
       "    </tr>\n",
       "  </tbody>\n",
       "</table>\n",
       "</div>"
      ],
      "text/plain": [
       "   year    mean  sigma mean\n",
       "0   -29  336.85        0.11\n",
       "1   -30  338.91        0.07\n",
       "2   -31  340.11        0.09\n",
       "3   -32  340.85        0.03\n",
       "4   -33  342.53        0.06"
      ]
     },
     "execution_count": 38,
     "metadata": {},
     "output_type": "execute_result"
    }
   ],
   "source": [
    "# Create a pandas dataframe with NOAA data.\n",
    "\n",
    "co2_noaa = pd.read_csv('data/co2_annmean_gl.csv', skiprows=37)\n",
    "#co2_noaa\n",
    "\n",
    "co2_noaa = co2_noaa.rename(columns = {'unc':'sigma mean'})\n",
    "\n",
    "# Matching year column with IPCC data.\n",
    "co2_noaa.iloc[:,0] = 1950 - co2_noaa.iloc[:,0]\n",
    "co2_noaa.head()"
   ]
  },
  {
   "cell_type": "code",
   "execution_count": 44,
   "metadata": {},
   "outputs": [
    {
     "data": {
      "text/html": [
       "<div>\n",
       "<style scoped>\n",
       "    .dataframe tbody tr th:only-of-type {\n",
       "        vertical-align: middle;\n",
       "    }\n",
       "\n",
       "    .dataframe tbody tr th {\n",
       "        vertical-align: top;\n",
       "    }\n",
       "\n",
       "    .dataframe thead th {\n",
       "        text-align: right;\n",
       "    }\n",
       "</style>\n",
       "<table border=\"1\" class=\"dataframe\">\n",
       "  <thead>\n",
       "    <tr style=\"text-align: right;\">\n",
       "      <th></th>\n",
       "      <th>year</th>\n",
       "      <th>mean</th>\n",
       "      <th>sigma mean</th>\n",
       "    </tr>\n",
       "  </thead>\n",
       "  <tbody>\n",
       "    <tr>\n",
       "      <th>1939</th>\n",
       "      <td>803709.25</td>\n",
       "      <td>202.65</td>\n",
       "      <td>1.04</td>\n",
       "    </tr>\n",
       "    <tr>\n",
       "      <th>1940</th>\n",
       "      <td>803925.28</td>\n",
       "      <td>202.92</td>\n",
       "      <td>2.06</td>\n",
       "    </tr>\n",
       "    <tr>\n",
       "      <th>1941</th>\n",
       "      <td>804009.87</td>\n",
       "      <td>207.50</td>\n",
       "      <td>0.92</td>\n",
       "    </tr>\n",
       "    <tr>\n",
       "      <th>1942</th>\n",
       "      <td>804522.67</td>\n",
       "      <td>204.86</td>\n",
       "      <td>1.64</td>\n",
       "    </tr>\n",
       "    <tr>\n",
       "      <th>1943</th>\n",
       "      <td>805132.44</td>\n",
       "      <td>202.23</td>\n",
       "      <td>0.69</td>\n",
       "    </tr>\n",
       "  </tbody>\n",
       "</table>\n",
       "</div>"
      ],
      "text/plain": [
       "           year    mean  sigma mean\n",
       "1939  803709.25  202.65        1.04\n",
       "1940  803925.28  202.92        2.06\n",
       "1941  804009.87  207.50        0.92\n",
       "1942  804522.67  204.86        1.64\n",
       "1943  805132.44  202.23        0.69"
      ]
     },
     "execution_count": 44,
     "metadata": {},
     "output_type": "execute_result"
    }
   ],
   "source": [
    "co2 = pd.concat([co2_noaa,co2_ipcc], ignore_index=True)\n",
    "#co2 = [co2_noaa,co2_ipcc]\n",
    "co2.head()\n",
    "co2.tail()"
   ]
  },
  {
   "cell_type": "code",
   "execution_count": null,
   "metadata": {},
   "outputs": [],
   "source": []
  }
 ],
 "metadata": {
  "kernelspec": {
   "display_name": "base",
   "language": "python",
   "name": "python3"
  },
  "language_info": {
   "codemirror_mode": {
    "name": "ipython",
    "version": 3
   },
   "file_extension": ".py",
   "mimetype": "text/x-python",
   "name": "python",
   "nbconvert_exporter": "python",
   "pygments_lexer": "ipython3",
   "version": "3.9.13"
  }
 },
 "nbformat": 4,
 "nbformat_minor": 2
}
